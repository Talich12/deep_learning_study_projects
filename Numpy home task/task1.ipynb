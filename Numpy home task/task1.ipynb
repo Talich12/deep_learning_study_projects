{
 "cells": [
  {
   "cell_type": "code",
   "execution_count": 8,
   "metadata": {},
   "outputs": [],
   "source": [
    "import numpy as np\n",
    "\n",
    "def no_numpy_mult(first, second):\n",
    "    result = []\n",
    "    for i in range(len(first)):\n",
    "        result_row = []\n",
    "        for j in range(len(second[0])):\n",
    "            result_ij = sum(first[i][k] * second[k][j] for k in range(len(first)))\n",
    "            result_row.append(result_ij)\n",
    "        result.append(result_row)\n",
    "    \n",
    "    return result\n",
    "\n",
    "def numpy_mult(first, second):\n",
    "    return first.dot(second)"
   ]
  },
  {
   "cell_type": "code",
   "execution_count": 9,
   "metadata": {},
   "outputs": [],
   "source": [
    "mtx1 = [\n",
    "    [1, 0, 0],\n",
    "    [0, 1, 0],\n",
    "    [0, 0, 1]\n",
    "]\n",
    "\n",
    "mtx2 = [\n",
    "    [12, 3, 4],\n",
    "    [5, 6, 7],\n",
    "    [23, 1, -1]\n",
    "]"
   ]
  },
  {
   "cell_type": "code",
   "execution_count": 13,
   "metadata": {},
   "outputs": [
    {
     "name": "stdout",
     "output_type": "stream",
     "text": [
      "[[12, 3, 4], [5, 6, 7], [23, 1, -1]]\n"
     ]
    }
   ],
   "source": [
    "print(no_numpy_mult(mtx1, mtx2))"
   ]
  },
  {
   "cell_type": "code",
   "execution_count": 11,
   "metadata": {},
   "outputs": [],
   "source": [
    "mtx1 = np.array(mtx1)\n",
    "mtx2 = np.array(mtx2)"
   ]
  },
  {
   "cell_type": "code",
   "execution_count": 12,
   "metadata": {},
   "outputs": [
    {
     "name": "stdout",
     "output_type": "stream",
     "text": [
      "[[12  3  4]\n",
      " [ 5  6  7]\n",
      " [23  1 -1]]\n"
     ]
    }
   ],
   "source": [
    "print(numpy_mult(mtx1, mtx2))"
   ]
  }
 ],
 "metadata": {
  "kernelspec": {
   "display_name": "Python 3",
   "language": "python",
   "name": "python3"
  },
  "language_info": {
   "codemirror_mode": {
    "name": "ipython",
    "version": 3
   },
   "file_extension": ".py",
   "mimetype": "text/x-python",
   "name": "python",
   "nbconvert_exporter": "python",
   "pygments_lexer": "ipython3",
   "version": "3.8.10"
  },
  "orig_nbformat": 4
 },
 "nbformat": 4,
 "nbformat_minor": 2
}
