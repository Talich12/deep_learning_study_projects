{
 "cells": [
  {
   "cell_type": "code",
   "execution_count": 1,
   "metadata": {},
   "outputs": [],
   "source": [
    "import numpy as np\n",
    "\n",
    "def run_length_encoding(arr):\n",
    "    # вычисляем разницу между последующими элементами\n",
    "    diff = np.diff(arr)\n",
    "    print(diff)\n",
    "\n",
    "    # находим индексы, где разница не равна 0\n",
    "    idx = np.where(diff != 0)[0]\n",
    "    print(idx)\n",
    "\n",
    "    # прибавляем 1, т.к. основная индексация начинается с 0, и к концу добавляем общую длину массива\n",
    "    idx = np.r_[idx, arr.size - 1]\n",
    "    print(idx)\n",
    "\n",
    "    # находим элементы\n",
    "    elements = arr[idx]\n",
    "\n",
    "    # находим количество повторений, учитывая, что numpy разчитывает индексы от 0\n",
    "    counts = np.diff(np.r_[-1, idx])\n",
    "\n",
    "    return (elements, counts)"
   ]
  },
  {
   "cell_type": "code",
   "execution_count": 2,
   "metadata": {},
   "outputs": [
    {
     "name": "stdout",
     "output_type": "stream",
     "text": [
      "[ 1  0  1  0 -2  0  4  0 -3  1  0]\n",
      "[0 2 4 6 8 9]\n",
      "[ 0  2  4  6  8  9 11]\n"
     ]
    }
   ],
   "source": [
    "arr = np.array([1, 2, 2, 3, 3, 1, 1, 5, 5, 2, 3, 3])\n",
    "elements, counts = run_length_encoding(arr)"
   ]
  },
  {
   "cell_type": "code",
   "execution_count": 3,
   "metadata": {},
   "outputs": [
    {
     "name": "stdout",
     "output_type": "stream",
     "text": [
      "Elements: [1 2 3 1 5 2 3]\n",
      "Counts: [1 2 2 2 2 1 2]\n"
     ]
    }
   ],
   "source": [
    "print('Elements:', elements)\n",
    "print('Counts:', counts)"
   ]
  }
 ],
 "metadata": {
  "kernelspec": {
   "display_name": "Python 3",
   "language": "python",
   "name": "python3"
  },
  "language_info": {
   "codemirror_mode": {
    "name": "ipython",
    "version": 3
   },
   "file_extension": ".py",
   "mimetype": "text/x-python",
   "name": "python",
   "nbconvert_exporter": "python",
   "pygments_lexer": "ipython3",
   "version": "3.8.10"
  },
  "orig_nbformat": 4
 },
 "nbformat": 4,
 "nbformat_minor": 2
}
