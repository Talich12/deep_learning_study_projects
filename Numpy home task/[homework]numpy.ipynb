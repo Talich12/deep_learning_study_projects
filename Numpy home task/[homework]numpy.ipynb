{
  "cells": [
    {
      "cell_type": "markdown",
      "metadata": {
        "id": "KxIquH6GK7kt"
      },
      "source": [
        "<p style=\"align: center;\"><img align=center src=\"https://s8.hostingkartinok.com/uploads/images/2018/08/308b49fcfbc619d629fe4604bceb67ac.jpg\" width=500 height=450/></p>\n",
        "\n",
        "\n",
        "<h3 style=\"text-align: center;\"><b>Школа глубокого обучения ФПМИ МФТИ, осень 2021</b></h3>\n",
        "\n",
        "## Домашнее задание: библиотека Numpy и линейная алгебра\n"
      ]
    },
    {
      "cell_type": "code",
      "execution_count": 1,
      "metadata": {
        "id": "YEJ8DQ4QK7kx"
      },
      "outputs": [],
      "source": [
        "import numpy as np\n",
        "import random\n",
        "import scipy.stats as sps"
      ]
    },
    {
      "cell_type": "markdown",
      "metadata": {
        "id": "hYXhVX0eK7k2"
      },
      "source": [
        "### Задание 1\n",
        "В первой задаче вам предлагается перемножить две квадратные матрицы двумя способами -- без использования пакета ***numpy*** и с ним."
      ]
    },
    {
      "cell_type": "code",
      "execution_count": 2,
      "metadata": {
        "colab": {
          "base_uri": "https://localhost:8080/"
        },
        "id": "zJR8EANzK7k3",
        "outputId": "2f85a0d3-be9d-411b-c35f-09590130f3c9"
      },
      "outputs": [
        {
          "name": "stdout",
          "output_type": "stream",
          "text": [
            "[[0.83236779 0.75099561 0.13276983 ... 0.14716833 0.11780403 0.73849687]\n",
            " [0.01272938 0.80232368 0.2495481  ... 0.32141947 0.58544143 0.26039159]\n",
            " [0.30363074 0.55273736 0.09416044 ... 0.98305596 0.38348352 0.86861769]\n",
            " ...\n",
            " [0.46313789 0.6230086  0.42120659 ... 0.26128825 0.19294066 0.20797616]\n",
            " [0.20826783 0.51155091 0.41214477 ... 0.49829017 0.25548037 0.37879374]\n",
            " [0.05561464 0.93718071 0.33327175 ... 0.86645238 0.78019803 0.78010182]]\n",
            "[[0.25168928 0.38584539 0.02380001 ... 0.82068473 0.9270351  0.20143607]\n",
            " [0.44992355 0.95342536 0.80163891 ... 0.98004783 0.14711787 0.40272604]\n",
            " [0.5955726  0.67520943 0.73115625 ... 0.35089824 0.63744406 0.32589198]\n",
            " ...\n",
            " [0.88781212 0.04590216 0.64202394 ... 0.73005818 0.56150045 0.74368792]\n",
            " [0.70548051 0.88597174 0.34591063 ... 0.2091051  0.68584791 0.09295419]\n",
            " [0.45478834 0.43657915 0.80141404 ... 0.14146779 0.89876262 0.99523902]]\n"
          ]
        }
      ],
      "source": [
        "# Для генерации матриц используем функцию random -- она используется для генерации случайных объектов\n",
        "# функция sample создает случайную выборку. В качестве аргумента ей передается кортеж (i,j),\n",
        "# здесь i -- число строк, j -- число столбцов.\n",
        "a = np.random.sample((100, 100))\n",
        "b = np.random.sample((100, 100))\n",
        "\n",
        "# Выведите размерность (ранг) каждой матрицы с помощью функции ndim.\n",
        "# Используйте функцию shape, что она вывела?\n",
        "\n",
        "# ========\n",
        "# Ваш код здесь\n",
        "# ========\n",
        "print(a)\n",
        "print(b)"
      ]
    },
    {
      "cell_type": "code",
      "execution_count": 10,
      "metadata": {
        "id": "bkWCI4TPK7k8"
      },
      "outputs": [],
      "source": [
        "def mult(first, second):\n",
        "    \"\"\"\n",
        "    a: list of \"size\" lists, each contains \"size\" floats --- первая матрица-аргумент\n",
        "    b: list of \"size\" lists, each contains \"size\" floats --- вторая матрица-аргумент\n",
        "    return c: list of \"size\" lists, each contains \"size\" floats --- матрица, являющаяся результатом умножения матриц a и b\n",
        "\n",
        "    Функция принимает на вход две матрицы: a и b размерностью size x size\n",
        "    Возвращает матрицу их произведения a * b = c\n",
        "\n",
        "    Реализуйте умножение матриц без использования функций из пакета numpy\n",
        "    \"\"\"\n",
        "    result = []\n",
        "    for i in range(len(first)):\n",
        "        result_row = []\n",
        "        for j in range(len(second[0])):\n",
        "            result_ij = sum(first[i][k] * second[k][j] for k in range(len(first)))\n",
        "            result_row.append(result_ij)\n",
        "        result.append(result_row)\n",
        "    \n",
        "    result = np.array(result)\n",
        "    \n",
        "    return result"
      ]
    },
    {
      "cell_type": "code",
      "execution_count": 4,
      "metadata": {
        "id": "IIgYD1W5K7lB"
      },
      "outputs": [],
      "source": [
        "def numpy_mult(first, second):\n",
        "    \"\"\"\n",
        "    first: np.array[size, size]             --- первая матрица-аргумент\n",
        "    second: np.array[size, size] --- вторая матрица-аргумент\n",
        "    return c: np.array[size, size]       --- матрица, являющаяся результатом умножения матриц a и b\n",
        "\n",
        "    Функция принимает на вход две матрицы: a и b размерностью size x size\n",
        "    Возвращает матрицу их произведения a * b = c\n",
        "\n",
        "    Реализуйте умножение матриц, используя функции из пакета numpy\n",
        "    \"\"\"\n",
        "    return first.dot(second)"
      ]
    },
    {
      "cell_type": "code",
      "execution_count": 11,
      "metadata": {
        "id": "tktkYzUHK7lE"
      },
      "outputs": [
        {
          "name": "stdout",
          "output_type": "stream",
          "text": [
            "CPU times: user 223 ms, sys: 1.62 ms, total: 224 ms\n",
            "Wall time: 224 ms\n"
          ]
        }
      ],
      "source": [
        "%%time\n",
        "# засечем время работы функции без NumPy\n",
        "M1 = mult(a, b)"
      ]
    },
    {
      "cell_type": "code",
      "execution_count": 12,
      "metadata": {},
      "outputs": [
        {
          "data": {
            "text/plain": [
              "array([[25.53951091, 23.65898617, 27.53017922, ..., 23.29623872,\n",
              "        27.54799919, 24.46206405],\n",
              "       [24.43441897, 24.01687798, 26.27534641, ..., 21.81722437,\n",
              "        26.42997678, 24.51158567],\n",
              "       [25.3809718 , 23.51538122, 27.58111289, ..., 24.94213533,\n",
              "        26.69490055, 25.0806468 ],\n",
              "       ...,\n",
              "       [22.78385263, 24.69027372, 26.1988131 , ..., 23.37045776,\n",
              "        25.69210423, 25.2264285 ],\n",
              "       [22.68567821, 23.21456531, 25.21103744, ..., 23.02528937,\n",
              "        25.55607582, 24.96880284],\n",
              "       [25.59261123, 25.4228372 , 27.50149746, ..., 23.2494329 ,\n",
              "        26.71768442, 24.64162706]])"
            ]
          },
          "execution_count": 12,
          "metadata": {},
          "output_type": "execute_result"
        }
      ],
      "source": [
        "M1"
      ]
    },
    {
      "cell_type": "code",
      "execution_count": 7,
      "metadata": {
        "id": "TmD0adgHK7lK"
      },
      "outputs": [
        {
          "name": "stdout",
          "output_type": "stream",
          "text": [
            "CPU times: user 1.33 ms, sys: 0 ns, total: 1.33 ms\n",
            "Wall time: 164 µs\n"
          ]
        }
      ],
      "source": [
        "%%time\n",
        "# засечем время работы функции с NumPy\n",
        "M2 = numpy_mult(a, b)"
      ]
    },
    {
      "cell_type": "code",
      "execution_count": 8,
      "metadata": {},
      "outputs": [
        {
          "data": {
            "text/plain": [
              "array([[25.53951091, 23.65898617, 27.53017922, ..., 23.29623872,\n",
              "        27.54799919, 24.46206405],\n",
              "       [24.43441897, 24.01687798, 26.27534641, ..., 21.81722437,\n",
              "        26.42997678, 24.51158567],\n",
              "       [25.3809718 , 23.51538122, 27.58111289, ..., 24.94213533,\n",
              "        26.69490055, 25.0806468 ],\n",
              "       ...,\n",
              "       [22.78385263, 24.69027372, 26.1988131 , ..., 23.37045776,\n",
              "        25.69210423, 25.2264285 ],\n",
              "       [22.68567821, 23.21456531, 25.21103744, ..., 23.02528937,\n",
              "        25.55607582, 24.96880284],\n",
              "       [25.59261123, 25.4228372 , 27.50149746, ..., 23.2494329 ,\n",
              "        26.71768442, 24.64162706]])"
            ]
          },
          "execution_count": 8,
          "metadata": {},
          "output_type": "execute_result"
        }
      ],
      "source": [
        "M2"
      ]
    },
    {
      "cell_type": "code",
      "execution_count": 13,
      "metadata": {
        "id": "oftqyANQK7lS"
      },
      "outputs": [],
      "source": [
        "# проверим корректность\n",
        "assert np.allclose(np.array(M1), M2)"
      ]
    },
    {
      "cell_type": "code",
      "execution_count": 14,
      "metadata": {},
      "outputs": [
        {
          "data": {
            "text/plain": [
              "167.6691729323308"
            ]
          },
          "execution_count": 14,
          "metadata": {},
          "output_type": "execute_result"
        }
      ],
      "source": [
        "223 / 1.33"
      ]
    },
    {
      "cell_type": "markdown",
      "metadata": {},
      "source": [
        "Функции выдали идентичный корректный результат.\n",
        "\n",
        "Добавил в функцию mult\n",
        "\n",
        "```\n",
        "# преобразование результата функции в массив numpy\n",
        "# чтобы проверить идентичность массивов\n",
        "result = np.array(result)\n",
        "```\n",
        "\n",
        "Вариант с использованием numpy отработал в 167 раз быстрее."
      ]
    },
    {
      "cell_type": "markdown",
      "metadata": {
        "id": "2itTyTlcaHAu"
      },
      "source": [
        "### Задание 2"
      ]
    },
    {
      "cell_type": "markdown",
      "metadata": {
        "id": "BCemQSq-aEbO"
      },
      "source": [
        "Вам подаются на вход два вектора `a` и `b` в трехмерном пространстве. Заполните их случайными числами. Реализуйте их скалярное произведение с помощью  `NumPy` и без. Засеките время работы, как это показано в заданиях выше."
      ]
    },
    {
      "cell_type": "code",
      "execution_count": 15,
      "metadata": {
        "colab": {
          "base_uri": "https://localhost:8080/"
        },
        "id": "lWhr_gPSZ9o_",
        "outputId": "78800ae7-d578-4649-c233-0d3d72239185"
      },
      "outputs": [
        {
          "name": "stdout",
          "output_type": "stream",
          "text": [
            "[0.35113962 0.1753663  0.44653565] [0.2350411  0.24903142 0.27347221]\n"
          ]
        }
      ],
      "source": [
        "a = np.random.sample((1, 3))\n",
        "a = list(a)[0]\n",
        "b = np.random.sample((1, 3))\n",
        "b = list(b)[0]\n",
        "print(a, b)"
      ]
    },
    {
      "cell_type": "code",
      "execution_count": 17,
      "metadata": {
        "id": "GjlkcHIWZ_ae"
      },
      "outputs": [],
      "source": [
        "def no_numpy_scalar(v1, v2):\n",
        "    \"\"\"\n",
        "    a: np.array[, n] --- первая матрица-аргумент длиной n\n",
        "    b: np.array[, n] --- вторая матрица-аргумент длиной n\n",
        "    return c: float  --- результат скалярного произведения векторов a и b\n",
        "\n",
        "    Функция принимает на вход два вектора длиной n\n",
        "    Возвращает число, равное их скалярному произведению a x b = c\n",
        "\n",
        "    Реализуйте скалярное умножение векторов, не используя функции из пакета numpy\n",
        "\n",
        "    \"\"\"\n",
        "    if len(v1) == len(v2):\n",
        "        return sum(x*y for x, y in zip(v1, v2))"
      ]
    },
    {
      "cell_type": "code",
      "execution_count": 18,
      "metadata": {
        "id": "C2M-OAp5Z_6a"
      },
      "outputs": [],
      "source": [
        "def numpy_scalar(v1, v2):\n",
        "    \"\"\"\n",
        "    a: np.array[, n] --- первая матрица-аргумент\n",
        "    b: np.array[, n] --- вторая матрица-аргумент\n",
        "    return c: float  --- результат скалярного произведения векторов a и b\n",
        "\n",
        "    Функция принимает на вход два вектора длиной n\n",
        "    Возвращает число, равное их скалярному произведению a x b = c\n",
        "\n",
        "    Реализуйте скалярное умножение векторов, используя функции из пакета numpy\n",
        "    \"\"\"\n",
        "    if len(v1) == len(v2):\n",
        "        return v1.dot(v2)"
      ]
    },
    {
      "cell_type": "code",
      "execution_count": 19,
      "metadata": {
        "id": "BOQfYf-2aCQJ",
        "scrolled": true
      },
      "outputs": [
        {
          "name": "stdout",
          "output_type": "stream",
          "text": [
            "CPU times: user 8 µs, sys: 5 µs, total: 13 µs\n",
            "Wall time: 14.8 µs\n",
            "CPU times: user 8 µs, sys: 5 µs, total: 13 µs\n",
            "Wall time: 14.5 µs\n"
          ]
        }
      ],
      "source": [
        "%time product_1 = no_numpy_scalar(a,b)\n",
        "%time product_2 = numpy_scalar(a,b)\n",
        "\n",
        "# проверим корректность:\n",
        "assert np.allclose(product_1, product_2)"
      ]
    },
    {
      "cell_type": "markdown",
      "metadata": {
        "id": "NHaHu6q1K7mH"
      },
      "source": [
        "Почему методы ***numpy*** оказываются эффективнее? Что вы можете сказать о скорости вычислений в NumPy?"
      ]
    },
    {
      "cell_type": "markdown",
      "metadata": {
        "id": "PqsTAb1M7TTQ"
      },
      "source": [
        "------------------"
      ]
    },
    {
      "cell_type": "markdown",
      "metadata": {
        "id": "_A3p2s4eK7mI"
      },
      "source": [
        "**Ответ:** Скорость вычислений вектоных и матричных операций в NumPy сильно превосходит скорость вычислений без него, по большей части потому, что функции numpy работаю с массивами данных одного типа (числовыми), это позволяет реализовать встроенные функции numpy на C/C++, что, конечно, делает numpy быстрее (функции, которые вызывает Numpy для работы с числовыми данными, сильно оптимизированы именно под эти задачи, а сам Python просто гоняет интерпретатор по циклу в таких операциях, что является чуть ли не самым большим замедлением в работе интерпретатора)."
      ]
    },
    {
      "cell_type": "markdown",
      "metadata": {
        "id": "mJXeUuznK7lm"
      },
      "source": [
        "### Задание 3\n",
        "Напишите функцию, которая находим сумму четных диагональных элементов квадратной матрицы. Если таких элементов нет, то вывести `0`. Используйте библиотеку Numpy"
      ]
    },
    {
      "cell_type": "code",
      "execution_count": 20,
      "metadata": {
        "id": "qYNiKbK47TTS"
      },
      "outputs": [],
      "source": [
        "def np_diag_2k(a):\n",
        "    \"\"\"\n",
        "    a: np.array[m, m] --- первая матрица-аргумент\n",
        "    return c: float   --- сумма элементов массива а, принадлежащих диагонали и являющимися четными\n",
        "\n",
        "    Функция принимает на вход квадратную матрицу размерностью m x m и возвращает число,\n",
        "    равное сумме четных диагональных элементов этой квадратной матрицы\n",
        "\n",
        "    В реализации этой функции необходимо использовать функционал пакета numpy\n",
        "\n",
        "    \"\"\"\n",
        "    diag = np.diag(a)\n",
        "\n",
        "    return sum(diag[diag % 2 == 0])"
      ]
    },
    {
      "cell_type": "code",
      "execution_count": 21,
      "metadata": {
        "id": "BdInn8_j7TTU"
      },
      "outputs": [
        {
          "data": {
            "text/plain": [
              "array([[2, 1, 9, 6, 3],\n",
              "       [1, 3, 2, 2, 1],\n",
              "       [5, 3, 2, 4, 8],\n",
              "       [1, 8, 1, 2, 5],\n",
              "       [3, 6, 7, 4, 6]])"
            ]
          },
          "execution_count": 21,
          "metadata": {},
          "output_type": "execute_result"
        }
      ],
      "source": [
        "# зададим некоторую квадратную матрицу\n",
        "a = np.random.randint(1, 10, size=(5, 5))\n",
        "a"
      ]
    },
    {
      "cell_type": "code",
      "execution_count": 22,
      "metadata": {
        "id": "ZR97Nt9N7TTW"
      },
      "outputs": [
        {
          "name": "stdout",
          "output_type": "stream",
          "text": [
            "CPU times: user 28 µs, sys: 15 µs, total: 43 µs\n",
            "Wall time: 44.1 µs\n"
          ]
        },
        {
          "data": {
            "text/plain": [
              "12"
            ]
          },
          "execution_count": 22,
          "metadata": {},
          "output_type": "execute_result"
        }
      ],
      "source": [
        "%%time\n",
        "# засечем время работы функции с NumPy\n",
        "np_diag_2k(a)"
      ]
    },
    {
      "cell_type": "markdown",
      "metadata": {
        "id": "cdcRkFzQ7TTY"
      },
      "source": [
        "### Задание 4\n",
        "​\n",
        "На вход дан двумерный массив $X$. Напишите функцию, которая для каждой строчки $(x = (x_1, x_2, \\ldots, x_n)$ массива $X$ строит строчку $s = (s_1, s_2, \\ldots, s_n)$,  где $s_k=x_1+...+x_k$, а затем выдаёт массив из построенных строчек. Используйте библиотеку <code>numpy</code> (вам поможет функция <code>cumsum</code>). Выходом функции должен быть двумерный <code>numpy</code>-массив той же формы, что и $X$.\n",
        "​"
      ]
    },
    {
      "cell_type": "code",
      "execution_count": 23,
      "metadata": {
        "id": "REgL39ksK7lr"
      },
      "outputs": [],
      "source": [
        "def cumsum(A):\n",
        "    \"\"\"\n",
        "    A: np.array[num_row, num_column]        --- матрица-аргумент\n",
        "    return S: np.array[num_row, num_column] --- выходная матрица кумулятивных сумм\n",
        "\n",
        "    Функция принимает на вход матрицу A размерностью n x m и возвращает\n",
        "    матрицу с той же размерностью n x m, i-ая строчка которой есть последовательность\n",
        "    кумулятивных сумм элементов i-ой строки матрицы A\n",
        "\n",
        "    В реализации этой функции необходимо использовать функционал пакета numpy\n",
        "\n",
        "    \"\"\"\n",
        "    result = []\n",
        "    for row in A:\n",
        "        row = np.array(row)\n",
        "        result.append(row.cumsum())\n",
        "        \n",
        "    return result"
      ]
    },
    {
      "cell_type": "code",
      "execution_count": 24,
      "metadata": {
        "id": "HcVN8MagK7lw"
      },
      "outputs": [
        {
          "name": "stdout",
          "output_type": "stream",
          "text": [
            "CPU times: user 2.15 ms, sys: 0 ns, total: 2.15 ms\n",
            "Wall time: 2.15 ms\n"
          ]
        }
      ],
      "source": [
        "# зададим некоторую последовательность и проверим ее на вашей функции.\n",
        "A = sps.uniform.rvs(size=10**3)\n",
        "\n",
        "%time S2 = cumsum(A)"
      ]
    },
    {
      "cell_type": "markdown",
      "metadata": {
        "id": "teVCPWZmK7l5"
      },
      "source": [
        "### Задание 5\n",
        "\n",
        "​\n",
        "Задан двумерный массив $X$. Для каждой строчки массива X необходимо сделать следующее преобразование.\n",
        "\n",
        "Пусть дана строчка x. Необходимо построить новый массив, где все элементы с нечетными индексами требуется заменить на число a (значение по умолчанию a=1). Все элементы с четными индексами нужно возвести в куб. Затем записать элементы в обратном порядке относительно их позиций. В конце требуется слить массив x с преобразованным x и вывести.\n",
        "\n",
        "Напишите функцию, которая выполняет данное преобразование для каждой строчки двумерного массива X. Массив X при этом должен остаться без изменений.\n",
        "\n",
        "Используйте библиотеку numpy.\n",
        "\n",
        "Пример:\n",
        "$X = [[100,200,300,400,500]]$ -> $[[100,a,300,a,500]]$ -> $[[500^3,a,300^3,a,100^3]]$ -> склеиваем -> $[[100,200,300,400,500,500^3,a,300^3,a,100^3]]$\n",
        "\n",
        "​"
      ]
    },
    {
      "cell_type": "code",
      "execution_count": 25,
      "metadata": {
        "id": "0hmcvfDVK7l-"
      },
      "outputs": [],
      "source": [
        "from copy import copy\n",
        "def transform(X, a=1):\n",
        "    \"\"\"\n",
        "    X: np.array[num_row, num_column]          --- матрица-аргумент\n",
        "    a: float                                  --- значение для преобразования нечетных элементов строк в X\n",
        "    return S: np.array[num_row, num_column*2] --- матрица, где строки являются\n",
        "    сконкатенированными строками изначальной матрицы X со строками, являющимися их преобразованиями\n",
        "\n",
        "    Функция принимает на вход матрицу X размерностью n x m, число a и\n",
        "    возвращает  матрицу с размерностью n x m*2, i-ая строчка которой является склеенной\n",
        "    i-ой строкой X с ее преобразованием ее строки transformation(X[i]), записанном в обратном порядке,\n",
        "    где преобразование для числа k определено как:\n",
        "    transformation(k) = a if ind(k) % 2 == 0 else k**3\n",
        "\n",
        "    В реализации этой функции необходимо использовать функционал пакета numpy\n",
        "\n",
        "    \"\"\"\n",
        "    result = []\n",
        "    for row in X:\n",
        "        reference = np.array(row)\n",
        "        row = np.array(row)\n",
        "        row[1::2] = a\n",
        "        row[::2] = row[::2]**3\n",
        "        row = row[::-1]\n",
        "        result.append(np.hstack((reference, row)))\n",
        "    result = np.array(result)\n",
        "    \n",
        "    return result"
      ]
    },
    {
      "cell_type": "code",
      "execution_count": 27,
      "metadata": {
        "id": "r2-JLMhxK7mE",
        "scrolled": true
      },
      "outputs": [
        {
          "name": "stdout",
          "output_type": "stream",
          "text": [
            "CPU times: user 134 µs, sys: 0 ns, total: 134 µs\n",
            "Wall time: 191 µs\n"
          ]
        }
      ],
      "source": [
        "X = np.array([[i for i in range(1, 10, 2)]])\n",
        "%time S2 = transform(X, 5)"
      ]
    },
    {
      "cell_type": "markdown",
      "metadata": {
        "id": "qa521fce7TTk"
      },
      "source": [
        "### Задание 6\n",
        "Написать функцию для кодирование массива (Run-length encoding). Все подряд идущие повторения элементов функция сжимает в один элемент и считает количество повторений этого элемента. Функция возвращает кортеж из двух векторов одинаковой длины. Первый содержит элементы, а второй — сколько раз их нужно повторить.\n",
        "\n",
        "Пример: encode(np.array([1, 2, 2, 3, 3, 1, 1, 5, 5, 2, 3, 3])) = (np.array[1, 2, 3, 1, 5, 2, 3]), np.array[1, 2, 2, 2, 2, 1, 2])"
      ]
    },
    {
      "cell_type": "code",
      "execution_count": 28,
      "metadata": {
        "id": "4wD7OSVv7TTl"
      },
      "outputs": [],
      "source": [
        "def run_length_encoding(arr):\n",
        "    \"\"\"\n",
        "    a: np.array[, n] --- вектор-аргумент длиной n\n",
        "    return (elems, repetitions): (np.array, np.array) --- выходной кортеж из вектора\n",
        "    элементов и вектора их количеств в подряд идущих повторениях\n",
        "\n",
        "    Функция принимает на вход вектор a длиной n, добавляет в вектор elem сжатые\n",
        "    в один элемент подряд идущие повторения элементов входного вектора a, в вектор\n",
        "    repetitions добавляет длины последовательностей подряд идущих повторений.\n",
        "    Затем функция возвращает кортеж векторов (elems, repetitions).\n",
        "\n",
        "    В реализации этой функции необходимо использовать функционал пакета numpy\n",
        "\n",
        "    \"\"\"\n",
        "    # вычисляем разницу между последующими элементами\n",
        "    diff = np.diff(arr)\n",
        "    print(diff)\n",
        "\n",
        "    # находим индексы, где разница не равна 0\n",
        "    idx = np.where(diff != 0)[0]\n",
        "    print(idx)\n",
        "\n",
        "    # прибавляем 1, т.к. основная индексация начинается с 0, и к концу добавляем общую длину массива\n",
        "    idx = np.r_[idx, arr.size - 1]\n",
        "    print(idx)\n",
        "\n",
        "    # находим элементы\n",
        "    elements = arr[idx]\n",
        "\n",
        "    # находим количество повторений, учитывая, что numpy разчитывает индексы от 0\n",
        "    counts = np.diff(np.r_[-1, idx])\n",
        "\n",
        "    return (elements, counts)"
      ]
    },
    {
      "cell_type": "code",
      "execution_count": 30,
      "metadata": {
        "id": "P7YxojET7TTn"
      },
      "outputs": [
        {
          "name": "stdout",
          "output_type": "stream",
          "text": [
            "[ 1  0  1  0 -2  0  4  0 -3  1  0]\n",
            "[0 2 4 6 8 9]\n",
            "[ 0  2  4  6  8  9 11]\n",
            "CPU times: user 933 µs, sys: 0 ns, total: 933 µs\n",
            "Wall time: 850 µs\n"
          ]
        }
      ],
      "source": [
        "X = np.array([1, 2, 2, 3, 3, 1, 1, 5, 5, 2, 3, 3])\n",
        "\n",
        "%time x, num = run_length_encoding(X)"
      ]
    }
  ],
  "metadata": {
    "colab": {
      "provenance": []
    },
    "kernelspec": {
      "display_name": "Python 3",
      "language": "python",
      "name": "python3"
    },
    "language_info": {
      "codemirror_mode": {
        "name": "ipython",
        "version": 3
      },
      "file_extension": ".py",
      "mimetype": "text/x-python",
      "name": "python",
      "nbconvert_exporter": "python",
      "pygments_lexer": "ipython3",
      "version": "3.10.11"
    }
  },
  "nbformat": 4,
  "nbformat_minor": 0
}
