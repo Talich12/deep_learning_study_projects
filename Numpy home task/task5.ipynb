{
 "cells": [
  {
   "cell_type": "code",
   "execution_count": 4,
   "metadata": {},
   "outputs": [],
   "source": [
    "import numpy as np\n",
    "\n",
    "def transform(X, a=1):\n",
    "    result = []\n",
    "    for row in X:\n",
    "        reference = np.array(row)\n",
    "        row = np.array(row)\n",
    "        row[1::2] = a\n",
    "        row[::2] = row[::2]**3\n",
    "        row = row[::-1]\n",
    "        result.append(np.hstack((reference, row)))\n",
    "    result = np.array(result)\n",
    "    return result"
   ]
  },
  {
   "cell_type": "code",
   "execution_count": 5,
   "metadata": {},
   "outputs": [],
   "source": [
    "x = [[100, 200, 300, 400, 500]]"
   ]
  },
  {
   "cell_type": "code",
   "execution_count": 6,
   "metadata": {},
   "outputs": [
    {
     "name": "stdout",
     "output_type": "stream",
     "text": [
      "[[      100       200       300       400       500 125000000         1\n",
      "   27000000         1   1000000]]\n"
     ]
    }
   ],
   "source": [
    "print(transform(x))"
   ]
  },
  {
   "cell_type": "code",
   "execution_count": 7,
   "metadata": {},
   "outputs": [
    {
     "name": "stdout",
     "output_type": "stream",
     "text": [
      "[[      100       200       300       400       500 125000000       404\n",
      "   27000000       404   1000000]]\n"
     ]
    }
   ],
   "source": [
    "print(transform(x, 404))"
   ]
  }
 ],
 "metadata": {
  "kernelspec": {
   "display_name": "Python 3",
   "language": "python",
   "name": "python3"
  },
  "language_info": {
   "codemirror_mode": {
    "name": "ipython",
    "version": 3
   },
   "file_extension": ".py",
   "mimetype": "text/x-python",
   "name": "python",
   "nbconvert_exporter": "python",
   "pygments_lexer": "ipython3",
   "version": "3.8.10"
  },
  "orig_nbformat": 4
 },
 "nbformat": 4,
 "nbformat_minor": 2
}
