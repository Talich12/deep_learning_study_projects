{
  "nbformat": 4,
  "nbformat_minor": 0,
  "metadata": {
    "colab": {
      "provenance": []
    },
    "kernelspec": {
      "display_name": "Python 3",
      "language": "python",
      "name": "python3"
    },
    "language_info": {
      "codemirror_mode": {
        "name": "ipython",
        "version": 3
      },
      "file_extension": ".py",
      "mimetype": "text/x-python",
      "name": "python",
      "nbconvert_exporter": "python",
      "pygments_lexer": "ipython3",
      "version": "3.7.4"
    }
  },
  "cells": [
    {
      "cell_type": "markdown",
      "metadata": {
        "id": "Co-eo4BURtaT"
      },
      "source": [
        "<p style=\"align: center;\"><img align=center src=\"https://s8.hostingkartinok.com/uploads/images/2018/08/308b49fcfbc619d629fe4604bceb67ac.jpg\" width=600 height=500/></p>\n",
        "\n",
        "<h3 style=\"text-align: center;\"><b>Школа глубокого обучения ФПМИ МФТИ</b></h3>\n",
        "\n",
        "<h3 style=\"text-align: center;\"><b>Домашнее задание. Линейные алгоритмы</b></h3>\n",
        "\n",
        "\n",
        "В этой домашке вы напишите свой класс логистической регрессии для бинарной классификации, а также логистическую регрессию с регуляризацией."
      ]
    },
    {
      "cell_type": "code",
      "metadata": {
        "id": "LjjtruRfRtaW"
      },
      "source": [
        "import numpy as np\n",
        "import pandas as pd\n",
        "import scipy.linalg as sla\n",
        "import matplotlib.pyplot as plt\n",
        "\n",
        "from sklearn import datasets\n",
        "from sklearn.linear_model import LinearRegression, Lasso, Ridge"
      ],
      "execution_count": 1,
      "outputs": []
    },
    {
      "cell_type": "code",
      "metadata": {
        "id": "UHITb0dimYrx"
      },
      "source": [
        "np.random.seed(42)"
      ],
      "execution_count": 2,
      "outputs": []
    },
    {
      "cell_type": "markdown",
      "metadata": {
        "id": "ZkqUrIIRkj95"
      },
      "source": [
        "# Градиентный спуск: повторение\n",
        "\n",
        "Рассмотрим функцию от двух переменных\n",
        "$f(x, y) = \\sin^2 x + \\sin^2 y$  "
      ]
    },
    {
      "cell_type": "code",
      "metadata": {
        "id": "08eWyQhHksXA"
      },
      "source": [
        "def f(x):\n",
        "    \"\"\"\n",
        "    :param x: np.array(np.float) вектор длины 2\n",
        "    :return: np.float\n",
        "    \"\"\"\n",
        "    return np.sum(np.sin(x)**2)"
      ],
      "execution_count": 3,
      "outputs": []
    },
    {
      "cell_type": "markdown",
      "metadata": {
        "id": "is_InL53kvPf"
      },
      "source": [
        "Обратите внимание, что $x$ - numpy-array вектор длины 2."
      ]
    },
    {
      "cell_type": "markdown",
      "metadata": {
        "id": "GqDNq19tkzjI"
      },
      "source": [
        "***Reminder:***  \n",
        "Что мы хотим? Мы хотим найти минимум этой функции (в машинному обучении мы обычно хотим найти минимум **функции потерь**, например, MSE), а точнее найти $x_1$ и $x_2$ такие, что при них значение $f(x_1,x_2)$ минимально, то есть *точку экстремума*.  \n",
        "  \n",
        "Как мы будем искать эту точку? Используем методы оптимизации (в нашем случае - *минимизации*). Одним из таких методов и является **градиентный спуск**."
      ]
    },
    {
      "cell_type": "markdown",
      "metadata": {
        "id": "VfpADbGXk5Ot"
      },
      "source": [
        "## Задание 1\n",
        "Реализуйте функцию, которая будет осуществлять градиентный спуск для функции $f$:\n",
        "\n",
        "*Примечание:* Вам нужно посчитать частные производные именно **аналитически** и **переписать их в код**, а не считать производные численно (через отношение приращения функции к приращению аргумента) -- в этих двух случаях могут различаться ответы, поэтому будьте внимательны."
      ]
    },
    {
      "cell_type": "code",
      "metadata": {
        "id": "nXuTAfcvk6kG"
      },
      "source": [
        "#Сначала реализуем функцию, вычисляющую градиент\n",
        "\n",
        "def grad_f(x):\n",
        "    \"\"\"\n",
        "    Градиент функциии f, определенной выше.\n",
        "    :param x: np.array[2]: float вектор длины 2\n",
        "    :return: np.array[2]: float вектор длины 2\n",
        "    \"\"\"\n",
        "    return np.array([ 2 * np.sin(x[0]) * np.cos(x[0]), 2 * np.sin(x[1]) * np.cos(x[1])])"
      ],
      "execution_count": 6,
      "outputs": []
    },
    {
      "cell_type": "code",
      "metadata": {
        "id": "Pejbp3fvMrWn"
      },
      "source": [
        "# Проверим, что градиент принимает вектор из двух чисел и выдает на этой точке верное значение\n",
        "assert np.allclose(grad_f(np.array([1, 2])),\n",
        "                   np.array([0.90929743, -0.7568025])), \"Что-то не так!\""
      ],
      "execution_count": 7,
      "outputs": []
    },
    {
      "cell_type": "code",
      "metadata": {
        "id": "SpH4AjBBk8Xo"
      },
      "source": [
        "def grad_descent_2d(f, grad_f, lr, num_iter=100, x0=None):\n",
        "    \"\"\"\n",
        "    функция, которая реализует градиентный спуск в минимум для функции f от двух переменных.\n",
        "        :param f: скалярная функция двух переменных\n",
        "        :param grad_f: функция, возвращающая градиент функции f (устроена как реализованная вами выше grad_f)\n",
        "        :param lr: learning rate алгоритма\n",
        "        :param num_iter: количество итераций градиентного спуска\n",
        "        :return: np.array[num_iter, 2] пар вида (x, f(x))\n",
        "    \"\"\"\n",
        "    if x0 is None:\n",
        "        x0 = np.random.random(2)\n",
        "\n",
        "    # будем сохранять значения аргументов и значений функции\n",
        "    # в процессе град. спуска в переменную history\n",
        "    history = []\n",
        "\n",
        "    # итерация цикла -- шаг градиентнго спуска\n",
        "    curr_x = x0.copy()\n",
        "    for iter_num in range(num_iter):\n",
        "        entry = np.hstack((curr_x, f(curr_x)))\n",
        "        history.append(entry)\n",
        "\n",
        "        curr_x -= lr * grad_f(curr_x)\n",
        "\n",
        "    return np.vstack(history)"
      ],
      "execution_count": 13,
      "outputs": []
    },
    {
      "cell_type": "markdown",
      "metadata": {
        "id": "LuR5OkOIGU9V"
      },
      "source": [
        "### Тестируем написанную функцию"
      ]
    },
    {
      "cell_type": "code",
      "metadata": {
        "id": "wb0cOqMfk_Rl"
      },
      "source": [
        "steps = grad_descent_2d(f, grad_f, lr=0.1, num_iter=20)"
      ],
      "execution_count": 14,
      "outputs": []
    },
    {
      "cell_type": "markdown",
      "metadata": {
        "id": "65Th1G7XlAn-"
      },
      "source": [
        "Визуализируем точки градиентного спуска на 3D-графике нашей функции. Звездочками будут обозначены точки (тройки $x_1, x_2, f(x_1, x_2)$), по которым Ваш алгоритм градиентного спуска двигался к минимуму.\n",
        "\n",
        "(Для того, чтобы написовать этот график, мы и сохраняли значения $cur\\_x_1, cur\\_x_2, f(cur\\_x_1, cur\\_x_2)$ в `steps` в процессе спуска)\n",
        "\n",
        "Если у Вас правильно написана функция `grad_descent_2d`, то звездочки на картинке должны сходиться к одной из точку минимума функции. Вы можете менять начальные приближения алгоритма, значения `lr` и `num_iter` и получать разные результаты."
      ]
    },
    {
      "cell_type": "code",
      "metadata": {
        "id": "42db2E5qOyOP",
        "colab": {
          "base_uri": "https://localhost:8080/"
        },
        "outputId": "5bc62487-dbb4-4c30-b407-6cadd03dc673"
      },
      "source": [
        "steps"
      ],
      "execution_count": 15,
      "outputs": [
        {
          "output_type": "execute_result",
          "data": {
            "text/plain": [
              "array([[7.31993942e-01, 5.98658484e-01, 7.64268691e-01],\n",
              "       [6.32563802e-01, 5.05552133e-01, 5.84071881e-01],\n",
              "       [5.37199209e-01, 4.20810268e-01, 4.28741735e-01],\n",
              "       [4.49268829e-01, 3.46237889e-01, 3.03788739e-01],\n",
              "       [3.71027123e-01, 2.82393423e-01, 2.09107722e-01],\n",
              "       [3.03446774e-01, 2.28869845e-01, 1.40761344e-01],\n",
              "       [2.46414924e-01, 1.84677683e-01, 9.32211055e-02],\n",
              "       [1.99102837e-01, 1.48576249e-01, 6.10338181e-02],\n",
              "       [1.60326334e-01, 1.19296380e-01, 3.96492869e-02],\n",
              "       [1.28807731e-01, 9.56628312e-02, 2.56233712e-02],\n",
              "       [1.03330188e-01, 7.66467777e-02, 1.65024149e-02],\n",
              "       [8.28109392e-02, 6.13773889e-02, 1.06044459e-02],\n",
              "       [6.63243661e-02, 4.91327172e-02, 6.80455717e-03],\n",
              "       [5.30983594e-02, 3.93219805e-02, 4.36220841e-03],\n",
              "       [4.24986373e-02, 3.14656886e-02, 2.79480990e-03],\n",
              "       [3.40091405e-02, 2.51767039e-02, 1.78990829e-03],\n",
              "       [2.72125560e-02, 2.01434907e-02, 1.14604577e-03],\n",
              "       [2.17727313e-02, 1.61158822e-02, 7.33676099e-04],\n",
              "       [1.74195611e-02, 1.28932638e-02, 4.69637458e-04],\n",
              "       [1.39363536e-02, 1.03148968e-02, 3.00602701e-04]])"
            ]
          },
          "metadata": {},
          "execution_count": 15
        }
      ]
    },
    {
      "cell_type": "code",
      "metadata": {
        "id": "Lb_dn7QhlF6o",
        "colab": {
          "base_uri": "https://localhost:8080/",
          "height": 264
        },
        "outputId": "9335b4ea-2911-45af-d351-1b2a9e51519e"
      },
      "source": [
        "# %matplotlib osx\n",
        "\n",
        "from mpl_toolkits.mplot3d import Axes3D\n",
        "import matplotlib.pyplot as plt\n",
        "from matplotlib import cm\n",
        "import numpy as np\n",
        "\n",
        "path = []\n",
        "\n",
        "X, Y = np.meshgrid(np.linspace(-3, 3, 100), np.linspace(-3, 3, 100))\n",
        "\n",
        "fig = plt.figure(figsize=(16, 10))\n",
        "ax = fig.gca(projection='3d')\n",
        "\n",
        "zs = np.array([f(np.array([x,y]))\n",
        "              for x, y in zip(np.ravel(X), np.ravel(Y))])\n",
        "Z = zs.reshape(X.shape)\n",
        "\n",
        "\n",
        "ax.plot_surface(X, Y, Z, cmap=cm.coolwarm, zorder=2)\n",
        "\n",
        "ax.plot(xs=steps[:, 0], ys=steps[:, 1], zs=steps[:, 2],\n",
        "        marker='*', markersize=20, zorder=3,\n",
        "        markerfacecolor='y', lw=3, c='black')\n",
        "\n",
        "ax.set_zlim(0, 5)\n",
        "ax.view_init(elev=60)\n",
        "plt.show()"
      ],
      "execution_count": 12,
      "outputs": [
        {
          "output_type": "error",
          "ename": "TypeError",
          "evalue": "ignored",
          "traceback": [
            "\u001b[0;31m---------------------------------------------------------------------------\u001b[0m",
            "\u001b[0;31mTypeError\u001b[0m                                 Traceback (most recent call last)",
            "\u001b[0;32m<ipython-input-12-6fec02c7c72b>\u001b[0m in \u001b[0;36m<cell line: 13>\u001b[0;34m()\u001b[0m\n\u001b[1;32m     11\u001b[0m \u001b[0;34m\u001b[0m\u001b[0m\n\u001b[1;32m     12\u001b[0m \u001b[0mfig\u001b[0m \u001b[0;34m=\u001b[0m \u001b[0mplt\u001b[0m\u001b[0;34m.\u001b[0m\u001b[0mfigure\u001b[0m\u001b[0;34m(\u001b[0m\u001b[0mfigsize\u001b[0m\u001b[0;34m=\u001b[0m\u001b[0;34m(\u001b[0m\u001b[0;36m16\u001b[0m\u001b[0;34m,\u001b[0m \u001b[0;36m10\u001b[0m\u001b[0;34m)\u001b[0m\u001b[0;34m)\u001b[0m\u001b[0;34m\u001b[0m\u001b[0;34m\u001b[0m\u001b[0m\n\u001b[0;32m---> 13\u001b[0;31m \u001b[0max\u001b[0m \u001b[0;34m=\u001b[0m \u001b[0mfig\u001b[0m\u001b[0;34m.\u001b[0m\u001b[0mgca\u001b[0m\u001b[0;34m(\u001b[0m\u001b[0mprojection\u001b[0m\u001b[0;34m=\u001b[0m\u001b[0;34m'3d'\u001b[0m\u001b[0;34m)\u001b[0m\u001b[0;34m\u001b[0m\u001b[0;34m\u001b[0m\u001b[0m\n\u001b[0m\u001b[1;32m     14\u001b[0m \u001b[0;34m\u001b[0m\u001b[0m\n\u001b[1;32m     15\u001b[0m zs = np.array([f(np.array([x,y]))\n",
            "\u001b[0;31mTypeError\u001b[0m: FigureBase.gca() got an unexpected keyword argument 'projection'"
          ]
        },
        {
          "output_type": "display_data",
          "data": {
            "text/plain": [
              "<Figure size 1600x1000 with 0 Axes>"
            ]
          },
          "metadata": {}
        }
      ]
    },
    {
      "cell_type": "markdown",
      "metadata": {
        "id": "qwf4pHzflIYz"
      },
      "source": [
        "Посмотрим на график значений функции от шага"
      ]
    },
    {
      "cell_type": "code",
      "metadata": {
        "id": "wlO7-4hylVSU",
        "colab": {
          "base_uri": "https://localhost:8080/",
          "height": 658
        },
        "outputId": "30d04e71-f977-4339-9485-b25ce914b9de"
      },
      "source": [
        "plt.figure(figsize=(14,7))\n",
        "plt.xlabel('grad descent step number')\n",
        "plt.ylabel('$f(x)$')\n",
        "plt.title('Значение функции на каждом шаге гардиентного спуска.')\n",
        "\n",
        "f_values = list(map(lambda x: x[2], steps))\n",
        "plt.plot(f_values, label='gradient descent result')\n",
        "plt.legend()"
      ],
      "execution_count": 16,
      "outputs": [
        {
          "output_type": "execute_result",
          "data": {
            "text/plain": [
              "<matplotlib.legend.Legend at 0x78f13884c070>"
            ]
          },
          "metadata": {},
          "execution_count": 16
        },
        {
          "output_type": "display_data",
          "data": {
            "text/plain": [
              "<Figure size 1400x700 with 1 Axes>"
            ],
            "image/png": "[encoded data removed]"
          },
          "metadata": {}
        }
      ]
    },
    {
      "cell_type": "markdown",
      "metadata": {
        "id": "vRcVklfKmfny"
      },
      "source": [
        "Когда вы используете градиентный спуск всегда нужно проверять, сошелся ли он. К сожалению для большинства моделей не получится построить 3D график, поэтому обязательно нужно смотреть на то, как менялся лосс на каждом шаге градиентного спуска."
      ]
    },
    {
      "cell_type": "markdown",
      "metadata": {
        "id": "2HiLafE4iUuM"
      },
      "source": [
        "# Генератор батчей\n",
        "\n",
        "Обычно генерация батчей отличается от той, которую мы использовали в семинаре. Мы выбирали *batch_size* случайных строчек на каждом шаге, но у такого подхода есть минусы. Основной заключается в том, что некоторые строчки из обучающего датасета могут попадаться значительно реже, чем другие.\n",
        "\n",
        "Чтобы это исправить обучение делят на эпохи. Мы хотим, чтобы в течение одной эпохи модель обучилась на каждом примере один раз. Для этого нужно перемешать строчки в датасете и каждый раз брать очередные *batch_size* строчек.\n",
        "\n",
        "Может так получится, что размер датасета не делится на *batch_size*, тогда последний батч будет состоять из нескольких последних строк и его размер будет меньше, чем *batch_size*. Такой батч иногда выкидывают и просто не используют. Именно так вам нужно поступить в этом задании."
      ]
    },
    {
      "cell_type": "markdown",
      "metadata": {
        "id": "Lt4OT2aAo87h"
      },
      "source": [
        "## Задание 2\n",
        "\n",
        "Напишите генератор батчей, который будет принимать на вход признаки, ответы и размер батча. Генератор должен возвращать tuple из ($X_{batch}$, $y_{batch}$). Если размер датасета не делится на batch_size, то **последний маленький батч возвращать не нужно**.\n",
        "\n",
        "Подробнее про Python генераторы можно прочитать здесь:\n",
        "\n",
        "[Документация](https://wiki.python.org/moin/Generators)\n",
        "\n",
        "[Описание на русском](https://pythoner.name/list-generator)\n",
        "\n",
        "Чтобы не перемешивать сам датасет воспользуйтесь np.random.permutation(len(X))\n"
      ]
    },
    {
      "cell_type": "code",
      "metadata": {
        "id": "8bDnuMLgp-1e"
      },
      "source": [
        "\n",
        "def generate_batches(X, y, batch_size):\n",
        "    \"\"\"\n",
        "    Generate batches of data.\n",
        "\n",
        "    :param X: np.array[n_objects, n_features] - matrix of feature vectors\n",
        "    :param y: np.array[n_objects] - vector of target values\n",
        "    :param batch_size: int - size of each batch\n",
        "    :yield: tuple - (Xbatch, ybatch)\n",
        "    \"\"\"\n",
        "\n",
        "    assert len(X) == len(y)\n",
        "    np.random.seed(42)\n",
        "    X = np.array(X)\n",
        "    y = np.array(y)\n",
        "    perm = np.random.permutation(len(X))\n",
        "\n",
        "    num_batches = len(X) // batch_size\n",
        "\n",
        "    for batch_idx in range(num_batches):\n",
        "        start = batch_idx * batch_size\n",
        "        end = (batch_idx + 1) * batch_size\n",
        "\n",
        "        Xbatch = X[perm[start:end]]\n",
        "        ybatch = y[perm[start:end]]\n",
        "\n",
        "        yield Xbatch, ybatch"
      ],
      "execution_count": 17,
      "outputs": []
    },
    {
      "cell_type": "markdown",
      "metadata": {
        "id": "SRNhKh7ruVJF"
      },
      "source": [
        "### Тестируем написанную функцию\n",
        "\n",
        "Проверим, что наш генератор батчей перемешивает датасет и каждый элемент встречается один раз:"
      ]
    },
    {
      "cell_type": "code",
      "metadata": {
        "id": "RXYD6rpPsbIh"
      },
      "source": [
        "X_fake = np.arange(100)[:, np.newaxis]\n",
        "y_fake = np.arange(100) + 1000\n",
        "\n",
        "X_reconstructed, y_reconstructed = [], []\n",
        "for X_batch, y_batch in generate_batches(X_fake, y_fake, 10):\n",
        "    X_reconstructed.append(X_batch)\n",
        "    y_reconstructed.append(y_batch)\n",
        "\n",
        "X_reconstructed = np.concatenate(X_reconstructed)\n",
        "y_reconstructed = np.concatenate(y_reconstructed)\n",
        "\n",
        "assert (X_fake != X_reconstructed).all(), \"Что-то не так!\"\n",
        "assert (y_fake != y_reconstructed).all(), \"Что-то не так!\"\n",
        "\n",
        "assert (np.sort(X_reconstructed, axis=0) == X_fake).all(), \"Что-то не так!\""
      ],
      "execution_count": 18,
      "outputs": []
    },
    {
      "cell_type": "markdown",
      "metadata": {
        "id": "acqZinh32YB6"
      },
      "source": [
        "Попробуем теперь *batch_size* не делящий размер датасета."
      ]
    },
    {
      "cell_type": "code",
      "metadata": {
        "id": "v9AgUYVF2F6J"
      },
      "source": [
        "X_fake = np.arange(100)[:, np.newaxis]\n",
        "y_fake = np.arange(100) + 1000\n",
        "\n",
        "num_batches = 0\n",
        "for X_batch, y_batch in generate_batches(X_fake, y_fake, 7):\n",
        "    num_batches += 1\n",
        "\n",
        "assert num_batches == len(X_fake) // 7, \"Что-то не так!\""
      ],
      "execution_count": 19,
      "outputs": []
    },
    {
      "cell_type": "markdown",
      "metadata": {
        "id": "EptaqLxN_969"
      },
      "source": [
        "# Обычная логистическая регрессия\n",
        "В этом пункте вы напишете класс логистической регрессии. Пока мы не будем добавлять в функцию потерь регуляризационные слагаемые.\n",
        "\n",
        "Вам необходимо будет воспользоваться оптимизацией с помощью SGD, используя генератор батчей, который вы написали выше.\n",
        "\n",
        "## Задание 3\n",
        "Реализуйте методы ``fit`` и ``get_grad`` класса ``MyLogisticRegression``.\n",
        "\n",
        "\n",
        "Напоминаем формулы:\n",
        "\n",
        "$$Loss(y, p) = -\\sum_{i=1}^{l} (y_i \\log (p_i) + (1 - y_i) \\log (1 - p_i))$$\n",
        "\n",
        "\n",
        "$$ \\frac{\\partial L}{\\partial w} = X^T (p - y)$$\n"
      ]
    },
    {
      "cell_type": "code",
      "metadata": {
        "id": "2rcTIc80AnfK"
      },
      "source": [
        "def logit(x, w):\n",
        "    return np.dot(x, w)\n",
        "\n",
        "def sigmoid(h):\n",
        "    return 1. / (1 + np.exp(-h))"
      ],
      "execution_count": 20,
      "outputs": []
    },
    {
      "cell_type": "code",
      "metadata": {
        "id": "u5RcOhSbAidQ"
      },
      "source": [
        "class MyLogisticRegression(object):\n",
        "    def __init__(self):\n",
        "        self.w = None\n",
        "\n",
        "    def fit(self, X, y, epochs=10, lr=0.1, batch_size=100):\n",
        "        n, k = X.shape\n",
        "        if self.w is None:\n",
        "            np.random.seed(42)\n",
        "            # Вектор столбец в качестве весов\n",
        "            self.w = np.random.randn(k + 1)\n",
        "\n",
        "        X_train = np.concatenate((np.ones((n, 1)), X), axis=1)\n",
        "\n",
        "        losses = []\n",
        "\n",
        "        # Положите в лист losses лосс на каждом батче. Не нужно усреднять лосс по эпохе.\n",
        "\n",
        "        for i in range(epochs):\n",
        "            for X_batch, y_batch in generate_batches(X_train, y, batch_size):\n",
        "                #В X_train уже добавлен вектор 1\n",
        "\n",
        "                predictions = sigmoid(logit(X_batch, self.w))\n",
        "                loss = np.mean(y_batch * np.log(predictions) + (1 - y_batch) * np.log(1 - predictions))\n",
        "\n",
        "                assert (np.array(loss).shape == tuple()), \"Лосс должен быть скаляром!\"\n",
        "\n",
        "                losses.append(loss)\n",
        "\n",
        "                #YOUR CODE: обновите self.w по формуле градиентного спуска. Используйте функцию self.get_grad для вычисления градиента. Не забудьте про learning rate!\n",
        "                self.w -= lr * self.get_grad(X_batch, y_batch, predictions)\n",
        "\n",
        "        return losses\n",
        "\n",
        "    def get_grad(self, X_batch, y_batch, predictions):\n",
        "        \"\"\"\n",
        "\n",
        "        param X_batch: np.array[batch_size, n_features + 1] --- матрица объекты-признаки\n",
        "        param y_batch: np.array[batch_size] --- батч целевых переменных\n",
        "        param predictions: np.array[batch_size] --- батч вероятностей классов\n",
        "\n",
        "        Принимает на вход X_batch с уже добавленной колонкой единиц.\n",
        "        Выдаёт градиент функции потерь в логистической регрессии\n",
        "        как сумму градиентов функции потерь на всех объектах батча\n",
        "        ВНИМАНИЕ! Нулевая координата вектора весов -- это BIAS, а не вес признака.\n",
        "        Также не нужно ДЕЛИТЬ ГРАДИЕНТ НА РАЗМЕР БАТЧА:\n",
        "        нас интересует не среднее, а сумма.\n",
        "        В качестве оператора умножения матриц можно использовать @\n",
        "\n",
        "        Выход -- вектор-столбец градиентов для каждого веса (np.array[n_features + 1])\n",
        "        \"\"\"\n",
        "\n",
        "        #компонент градиента из логрегрессии\n",
        "        #следите за размерностями\n",
        "\n",
        "        grad_basic = X_batch.T @ (predictions - y_batch)\n",
        "        assert grad_basic.shape == (X_batch.shape[1],) , \"Градиенты должны быть столбцом из k_features + 1 элементов\"\n",
        "\n",
        "        return grad_basic\n",
        "\n",
        "    def predict_proba(self, X):\n",
        "        n, k = X.shape\n",
        "        X_ = np.concatenate((np.ones((n, 1)), X), axis=1)\n",
        "        return sigmoid(logit(X_, self.w))\n",
        "\n",
        "    def _predict_proba_internal(self, X):\n",
        "        \"\"\"\n",
        "        Возможно, вы захотите использовать эту функцию вместо predict_proba, поскольку\n",
        "        predict_proba конкатенирует вход с вектором из единиц, что не всегда удобно\n",
        "        для внутренней логики вашей программы\n",
        "        \"\"\"\n",
        "        return sigmoid(logit(X, self.w))\n",
        "\n",
        "    def predict(self, X, threshold=0.5):\n",
        "        return self.predict_proba(X) >= threshold\n",
        "\n",
        "    def get_weights(self):\n",
        "        return self.w.copy()\n",
        "        # copy тут используется неспроста. Если copy не использовать, то get_weights()\n",
        "        # выдаст ссылку на объект, а, значит, модифицируя результат применения функции\n",
        "        # get_weights(), вы модифицируете и веса self.w. Если вы хотите модифицировать веса,\n",
        "        # (например, в fit), используйте self.w\n",
        "\n",
        "    def __loss(self, y, p):\n",
        "        p = np.clip(p, 1e-10, 1 - 1e-10)\n",
        "        return -np.sum(y * np.log(p) + (1 - y) * np.log(1 - p))"
      ],
      "execution_count": 30,
      "outputs": []
    },
    {
      "cell_type": "markdown",
      "metadata": {
        "id": "xOe-l11jClcZ"
      },
      "source": [
        "### Тестируем написанную функцию\n"
      ]
    },
    {
      "cell_type": "code",
      "metadata": {
        "id": "oex7f__9Cpsu"
      },
      "source": [
        "m = MyLogisticRegression()\n",
        "X = np.array([[1, 3, 4], [1, -5, 6], [-3, 5, 3]])\n",
        "X = np.concatenate((np.ones((X.shape[0], 1)), X), axis=1)\n",
        "y = np.array([1, 0, 1])\n",
        "preds = np.array([.55, .22, .85])\n",
        "grads = m.get_grad(X, y, preds)\n",
        "assert np.allclose(grads, np.array([-0.38,  0.22, -3.2 , -0.93])), \"Что-то не так!\""
      ],
      "execution_count": 31,
      "outputs": []
    },
    {
      "cell_type": "code",
      "metadata": {
        "id": "Jy7nGo7kR0bN"
      },
      "source": [
        "np.random.seed(42)\n",
        "m = MyLogisticRegression()\n",
        "X = np.random.rand(100,3)\n",
        "y = np.random.randint(0, 1, size=(100,))\n",
        "preds = np.random.rand(100)\n",
        "grads = m.get_grad(X, y, preds)\n",
        "assert np.allclose(grads, np.array([23.8698149, 25.27049356, 24.4139452])), \"Что-то не так!\""
      ],
      "execution_count": 32,
      "outputs": []
    },
    {
      "cell_type": "markdown",
      "metadata": {
        "id": "njXUst00c0ip"
      },
      "source": [
        "# Логистическая регрессия с $l_1$ и $l_2$ регуляризацией (elastic net).\n",
        "\n",
        "Ваша задача -- написать класс логистической регрессии с обеими регуляризациями и оптимизацией с помощью SGD, используя генератор батчей, который вы написали выше.\n",
        "\n",
        "Обратите внимание, что реализация ElasticNet отличается от реализации LogisticRegression только функцией потерь для оптимизации. Поэтому единственная функция, которая будет отличаться у двух методов, это ``self.get_grad()``.\n",
        "\n",
        "Поэтому в данном случае естественно применить паттерн *наследования*. Весь синтаксис наследования мы прописали за вас. Единственное, что вам осталось сделать, это переопределить метод ``get_grad()`` в отнаследованном классе.\n",
        "\n",
        "## Задание 4\n",
        "Реализуйте метод ``get_grad()`` класса ``MyElasticLogisticRegression``\n",
        "\n",
        "Формулы:\n",
        "\n",
        "$$L_1 (w) = \\alpha \\sum_{j=1}^{n}|w_j| $$\n",
        "\n",
        "$$L_2 (w) = \\beta\\sum_{j=1}^{n}w_j^2$$\n",
        "\n",
        "$$\\frac{\\partial L_1}{\\partial w_1} = \\alpha \\cdot \\mathrm{sign}(w_1)$$\n",
        "\n",
        "$$ \\frac{\\partial L_2}{\\partial w_1} = 2\\beta w_1$$\n"
      ]
    },
    {
      "cell_type": "code",
      "metadata": {
        "id": "nZDT65fd7nCa"
      },
      "source": [
        "class MyElasticLogisticRegression(MyLogisticRegression):\n",
        "    def __init__(self, l1_coef, l2_coef):\n",
        "        self.l1_coef = l1_coef\n",
        "        self.l2_coef = l2_coef\n",
        "        self.w = None\n",
        "\n",
        "    def get_grad(self, X_batch, y_batch, predictions):\n",
        "        \"\"\"\n",
        "        Принимает на вход X_batch с уже добавленной колонкой единиц.\n",
        "        Выдаёт градиент функции потерь в логистической регрессии с регуляризаторамиеализуйте класс логистической регрессии с обеими регуляризациями и оптимизацией с помощью SGD.\n",
        "        как сумму градиентов функции потерь на всех объектах батча + регуляризационное слагаемое\n",
        "        ВНИМАНИЕ! Нулевая координата вектора весов -- это BIAS, а не вес признака.\n",
        "        Bias в регуляризационные слагаемые не входит. Также не нужно ДЕЛИТЬ ГРАДИЕНТ НА РАЗМЕР БАТЧА:\n",
        "        нас интересует не среднее, а сумма.\n",
        "\n",
        "        Выход -- вектор-столбец градиентов для каждого веса (np.array[n_features + 1])\n",
        "        \"\"\"\n",
        "\n",
        "        grad_basic = X_batch.T @ (predictions - y_batch)\n",
        "\n",
        "        grad_l1 = self.l1_coef * np.sign(self.w[1:])\n",
        "        grad_l2 = 2 * self.l2_coef * self.w[1:]\n",
        "        grad_l1[0] = grad_l2[0] = 0\n",
        "\n",
        "        #Обнулять bias-компоненту вектора весов не нужно!\n",
        "\n",
        "        assert grad_l1[0] == grad_l2[0] == 0, \"Bias в регуляризационные слагаемые не входит!\"\n",
        "        assert grad_basic.shape == grad_l1.shape == grad_l2.shape == (X_batch.shape[1],) , \"Градиенты должны быть столбцом из k_features + 1 элементов\"\n",
        "\n",
        "        return grad_basic + grad_l1 + grad_l2"
      ],
      "execution_count": 40,
      "outputs": []
    },
    {
      "cell_type": "markdown",
      "metadata": {
        "id": "q7U_nJDQehy9"
      },
      "source": [
        "### Тестирование\n",
        "Протестируем написанную функцию:\n"
      ]
    },
    {
      "cell_type": "code",
      "metadata": {
        "id": "rKow8JfgSgHz",
        "colab": {
          "base_uri": "https://localhost:8080/",
          "height": 351
        },
        "outputId": "6b25f833-4d16-4925-f29c-41f49455e01d"
      },
      "source": [
        "m = MyElasticLogisticRegression(.2,.2)\n",
        "X = np.array([[1, 3, 4], [1, -5, 6], [-3, 5, 3]])\n",
        "X = np.concatenate((np.ones((X.shape[0], 1)), X), axis=1)\n",
        "y = np.array([1, 0, 1])\n",
        "preds = np.array([.55, .22, .85])\n",
        "m.w = np.array([1,1,1,1])\n",
        "grads = m.get_grad(X, y, preds)\n",
        "assert np.allclose(grads, np.array([-0.38,  0.82, -2.6 , -0.33])), \"Что-то не так!\"\n"
      ],
      "execution_count": 41,
      "outputs": [
        {
          "output_type": "error",
          "ename": "AssertionError",
          "evalue": "ignored",
          "traceback": [
            "\u001b[0;31m---------------------------------------------------------------------------\u001b[0m",
            "\u001b[0;31mAssertionError\u001b[0m                            Traceback (most recent call last)",
            "\u001b[0;32m<ipython-input-41-fca0df71fba0>\u001b[0m in \u001b[0;36m<cell line: 7>\u001b[0;34m()\u001b[0m\n\u001b[1;32m      5\u001b[0m \u001b[0mpreds\u001b[0m \u001b[0;34m=\u001b[0m \u001b[0mnp\u001b[0m\u001b[0;34m.\u001b[0m\u001b[0marray\u001b[0m\u001b[0;34m(\u001b[0m\u001b[0;34m[\u001b[0m\u001b[0;36m.55\u001b[0m\u001b[0;34m,\u001b[0m \u001b[0;36m.22\u001b[0m\u001b[0;34m,\u001b[0m \u001b[0;36m.85\u001b[0m\u001b[0;34m]\u001b[0m\u001b[0;34m)\u001b[0m\u001b[0;34m\u001b[0m\u001b[0;34m\u001b[0m\u001b[0m\n\u001b[1;32m      6\u001b[0m \u001b[0mm\u001b[0m\u001b[0;34m.\u001b[0m\u001b[0mw\u001b[0m \u001b[0;34m=\u001b[0m \u001b[0mnp\u001b[0m\u001b[0;34m.\u001b[0m\u001b[0marray\u001b[0m\u001b[0;34m(\u001b[0m\u001b[0;34m[\u001b[0m\u001b[0;36m1\u001b[0m\u001b[0;34m,\u001b[0m\u001b[0;36m1\u001b[0m\u001b[0;34m,\u001b[0m\u001b[0;36m1\u001b[0m\u001b[0;34m,\u001b[0m\u001b[0;36m1\u001b[0m\u001b[0;34m]\u001b[0m\u001b[0;34m)\u001b[0m\u001b[0;34m\u001b[0m\u001b[0;34m\u001b[0m\u001b[0m\n\u001b[0;32m----> 7\u001b[0;31m \u001b[0mgrads\u001b[0m \u001b[0;34m=\u001b[0m \u001b[0mm\u001b[0m\u001b[0;34m.\u001b[0m\u001b[0mget_grad\u001b[0m\u001b[0;34m(\u001b[0m\u001b[0mX\u001b[0m\u001b[0;34m,\u001b[0m \u001b[0my\u001b[0m\u001b[0;34m,\u001b[0m \u001b[0mpreds\u001b[0m\u001b[0;34m)\u001b[0m\u001b[0;34m\u001b[0m\u001b[0;34m\u001b[0m\u001b[0m\n\u001b[0m\u001b[1;32m      8\u001b[0m \u001b[0;32massert\u001b[0m \u001b[0mnp\u001b[0m\u001b[0;34m.\u001b[0m\u001b[0mallclose\u001b[0m\u001b[0;34m(\u001b[0m\u001b[0mgrads\u001b[0m\u001b[0;34m,\u001b[0m \u001b[0mnp\u001b[0m\u001b[0;34m.\u001b[0m\u001b[0marray\u001b[0m\u001b[0;34m(\u001b[0m\u001b[0;34m[\u001b[0m\u001b[0;34m-\u001b[0m\u001b[0;36m0.38\u001b[0m\u001b[0;34m,\u001b[0m  \u001b[0;36m0.82\u001b[0m\u001b[0;34m,\u001b[0m \u001b[0;34m-\u001b[0m\u001b[0;36m2.6\u001b[0m \u001b[0;34m,\u001b[0m \u001b[0;34m-\u001b[0m\u001b[0;36m0.33\u001b[0m\u001b[0;34m]\u001b[0m\u001b[0;34m)\u001b[0m\u001b[0;34m)\u001b[0m\u001b[0;34m,\u001b[0m \u001b[0;34m\"Что-то не так!\"\u001b[0m\u001b[0;34m\u001b[0m\u001b[0;34m\u001b[0m\u001b[0m\n",
            "\u001b[0;32m<ipython-input-40-fb82477ac57b>\u001b[0m in \u001b[0;36mget_grad\u001b[0;34m(self, X_batch, y_batch, predictions)\u001b[0m\n\u001b[1;32m     26\u001b[0m \u001b[0;34m\u001b[0m\u001b[0m\n\u001b[1;32m     27\u001b[0m         \u001b[0;32massert\u001b[0m \u001b[0mgrad_l1\u001b[0m\u001b[0;34m[\u001b[0m\u001b[0;36m0\u001b[0m\u001b[0;34m]\u001b[0m \u001b[0;34m==\u001b[0m \u001b[0mgrad_l2\u001b[0m\u001b[0;34m[\u001b[0m\u001b[0;36m0\u001b[0m\u001b[0;34m]\u001b[0m \u001b[0;34m==\u001b[0m \u001b[0;36m0\u001b[0m\u001b[0;34m,\u001b[0m \u001b[0;34m\"Bias в регуляризационные слагаемые не входит!\"\u001b[0m\u001b[0;34m\u001b[0m\u001b[0;34m\u001b[0m\u001b[0m\n\u001b[0;32m---> 28\u001b[0;31m         \u001b[0;32massert\u001b[0m \u001b[0mgrad_basic\u001b[0m\u001b[0;34m.\u001b[0m\u001b[0mshape\u001b[0m \u001b[0;34m==\u001b[0m \u001b[0mgrad_l1\u001b[0m\u001b[0;34m.\u001b[0m\u001b[0mshape\u001b[0m \u001b[0;34m==\u001b[0m \u001b[0mgrad_l2\u001b[0m\u001b[0;34m.\u001b[0m\u001b[0mshape\u001b[0m \u001b[0;34m==\u001b[0m \u001b[0;34m(\u001b[0m\u001b[0mX_batch\u001b[0m\u001b[0;34m.\u001b[0m\u001b[0mshape\u001b[0m\u001b[0;34m[\u001b[0m\u001b[0;36m1\u001b[0m\u001b[0;34m]\u001b[0m\u001b[0;34m,\u001b[0m\u001b[0;34m)\u001b[0m \u001b[0;34m,\u001b[0m \u001b[0;34m\"Градиенты должны быть столбцом из k_features + 1 элементов\"\u001b[0m\u001b[0;34m\u001b[0m\u001b[0;34m\u001b[0m\u001b[0m\n\u001b[0m\u001b[1;32m     29\u001b[0m \u001b[0;34m\u001b[0m\u001b[0m\n\u001b[1;32m     30\u001b[0m         \u001b[0;32mreturn\u001b[0m \u001b[0mgrad_basic\u001b[0m \u001b[0;34m+\u001b[0m \u001b[0mgrad_l1\u001b[0m \u001b[0;34m+\u001b[0m \u001b[0mgrad_l2\u001b[0m\u001b[0;34m\u001b[0m\u001b[0;34m\u001b[0m\u001b[0m\n",
            "\u001b[0;31mAssertionError\u001b[0m: Градиенты должны быть столбцом из k_features + 1 элементов"
          ]
        }
      ]
    },
    {
      "cell_type": "code",
      "metadata": {
        "id": "1GA-fvfcSuTg"
      },
      "source": [
        "np.random.seed(42)\n",
        "m = MyElasticLogisticRegression(.2, .2)\n",
        "X = np.random.rand(100,3)\n",
        "X = np.concatenate((np.ones((X.shape[0], 1)), X), axis=1)\n",
        "y = np.random.randint(0, 1, size=(100,))\n",
        "preds = np.random.rand(100)\n",
        "m.w = np.array([1,1,1,1])\n",
        "grads = m.get_grad(X, y, preds)\n",
        "assert np.allclose(grads, np.array([49.11489408, 24.4698149, 25.87049356, 25.0139452])), \"Что-то не так!\"\n"
      ],
      "execution_count": null,
      "outputs": []
    },
    {
      "cell_type": "markdown",
      "metadata": {
        "id": "GmLE5XsLSkH_"
      },
      "source": [
        "## Смотрим, как работает наша модель\n",
        "Протестируем на искусственных данных:"
      ]
    },
    {
      "cell_type": "code",
      "metadata": {
        "id": "s3_G7LzsehLx"
      },
      "source": [
        "from sklearn.datasets import make_blobs\n",
        "X, y = make_blobs(n_samples=1000, centers=[[-2,0.5],[3,-0.5]], cluster_std=1, random_state=42)\n",
        "#y = y.reshape(-1, 1)\n",
        "\n",
        "colors = (\"red\", \"green\")\n",
        "colored_y = np.zeros(y.size, dtype=str)\n",
        "\n",
        "for i, cl in enumerate([0,1]):\n",
        "    colored_y[y.ravel() == cl] = str(colors[i])\n",
        "\n",
        "plt.figure(figsize=(15,10))\n",
        "plt.scatter(X[:, 0], X[:, 1], c=colored_y)\n",
        "plt.show()"
      ],
      "execution_count": null,
      "outputs": []
    },
    {
      "cell_type": "code",
      "metadata": {
        "id": "2e83rZRceqn-"
      },
      "source": [
        "clf = MyElasticLogisticRegression(0.1, 0.1)\n",
        "clf.fit(X, y, epochs=1000)\n",
        "w = clf.get_weights()"
      ],
      "execution_count": null,
      "outputs": []
    },
    {
      "cell_type": "code",
      "metadata": {
        "id": "I9LnB1Xffkql"
      },
      "source": [
        "from matplotlib.colors import ListedColormap\n",
        "\n",
        "plt.figure(figsize=(15,8))\n",
        "\n",
        "eps = 0.1\n",
        "xx, yy = np.meshgrid(np.linspace(np.min(X[:,0]) - eps, np.max(X[:,0]) + eps, 200),\n",
        "                     np.linspace(np.min(X[:,1]) - eps, np.max(X[:,1]) + eps, 200))\n",
        "Z = clf.predict(np.c_[xx.ravel(), yy.ravel()])\n",
        "Z = Z.reshape(xx.shape)\n",
        "cmap_light = ListedColormap(['#FFAAAA', '#AAFFAA'])\n",
        "plt.pcolormesh(xx, yy, Z, cmap=cmap_light)\n",
        "\n",
        "plt.scatter(X[:, 0], X[:, 1], c=colored_y)"
      ],
      "execution_count": null,
      "outputs": []
    },
    {
      "cell_type": "markdown",
      "metadata": {
        "id": "BqzDLd6MgHWI"
      },
      "source": [
        "Теперь протестируем на датасете MNIST. Это очень простой класический датасет, на котором часто тестируются модели. С помощью нейронных сетей люди научились получать на нем качество 99.84%.\n",
        "\n",
        "Датасет состоит из черно-белых картинок с цифрами. ![mnist-3.0.1.png](https://www.researchgate.net/profile/Steven_Young11/publication/306056875/figure/fig1/AS:393921575309346@1470929630835/Example-images-from-the-MNIST-dataset.png)"
      ]
    },
    {
      "cell_type": "markdown",
      "metadata": {
        "id": "xBaJqkC9g8ID"
      },
      "source": [
        "Так как мы сделали классификатор для двух классов, то мы выберем из всех картинок только картинки 0 и 1, првратим их из двумерной матрицы в вектор и обучим нашу модель."
      ]
    },
    {
      "cell_type": "code",
      "metadata": {
        "id": "2_DfAkIvg6GF"
      },
      "source": [
        "data = pd.read_csv('./train.csv')\n",
        "#файл лежит в директории с домашним заданием. Чтобы иметь возможность его\n",
        "#открыть, загрузите его на колаб (панель слева, нажимаем значок \"Файлы\",\n",
        "#выбираем \"загрузить в сессионное хранилище\", выбираем нужный файл)\n",
        "data.head()"
      ],
      "execution_count": null,
      "outputs": []
    },
    {
      "cell_type": "markdown",
      "metadata": {
        "id": "7zDXXmEmw3dW"
      },
      "source": [
        "Данные выглядят как таблица, первая колонка которой это лейбел -- цифра, которая изображена на картинке, а следующие 784 колонки это значения от 0 до 255, описывающие все пиксели картинки 28х28. То есть нам не придется делать reshape и превращать матрицу в вектор, так как это уже сделано."
      ]
    },
    {
      "cell_type": "code",
      "metadata": {
        "id": "be-k7gu-w3dW"
      },
      "source": [
        "X = data.iloc[:, 1:]\n",
        "y = data.iloc[:, 1]\n",
        "\n",
        "# Выберем только картинки, где изображен 0 и 1\n",
        "X = X[(y == 0) | (y == 1)]\n",
        "y = y[(y == 0) | (y == 1)]"
      ],
      "execution_count": null,
      "outputs": []
    },
    {
      "cell_type": "markdown",
      "metadata": {
        "id": "FrBJh4stw3dZ"
      },
      "source": [
        "Для оценки модели мы используем кросс валидацию."
      ]
    },
    {
      "cell_type": "code",
      "metadata": {
        "id": "6vaS7Y3kw3da"
      },
      "source": [
        "from sklearn.model_selection import cross_val_score\n",
        "from sklearn.pipeline import make_pipeline\n",
        "from sklearn.preprocessing import StandardScaler\n",
        "\n",
        "# YOUR CODE\n",
        "# Сделайте sklearn pipeline с StandarScaler и MyElasticLogisticRegression и проверьте точность с помощью cross_val_score.\n",
        "# в качестве scorer используйте 'accuracy'. Эта часть не проверяется в степике.\n",
        "\n",
        "\n",
        "print(f\"Mean accuracy of Logistic Regression for two classes is {mean_accuracy}\")"
      ],
      "execution_count": null,
      "outputs": []
    },
    {
      "cell_type": "code",
      "metadata": {
        "id": "oH7avq9xM9O0"
      },
      "source": [],
      "execution_count": null,
      "outputs": []
    }
  ]
}